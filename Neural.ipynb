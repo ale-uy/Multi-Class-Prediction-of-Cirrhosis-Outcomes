{
 "cells": [
  {
   "cell_type": "code",
   "execution_count": null,
   "metadata": {},
   "outputs": [],
   "source": [
    "import pandas as pd\n",
    "from sklearn.metrics import log_loss\n",
    "from sklearn.preprocessing import OneHotEncoder, MinMaxScaler\n",
    "from sklearn.model_selection import train_test_split\n",
    "import tensorflow as tf\n",
    "from keras_tuner.tuners import RandomSearch"
   ]
  },
  {
   "cell_type": "code",
   "execution_count": null,
   "metadata": {},
   "outputs": [],
   "source": [
    "train = pd.read_csv('train.csv')\n",
    "test = pd.read_csv('test.csv')"
   ]
  },
  {
   "cell_type": "code",
   "execution_count": null,
   "metadata": {},
   "outputs": [],
   "source": [
    "test.Stage.value_counts()"
   ]
  },
  {
   "cell_type": "code",
   "execution_count": null,
   "metadata": {},
   "outputs": [],
   "source": [
    "train_id = train['id']\n",
    "train.drop('id', axis=1, inplace=True)\n",
    "\n",
    "test_id = test['id']\n",
    "test.drop('id', axis=1, inplace=True)\n",
    "\n",
    "TARGET = 'Status'"
   ]
  },
  {
   "cell_type": "code",
   "execution_count": null,
   "metadata": {},
   "outputs": [],
   "source": [
    "names_map = {\n",
    " 'C': 0,\n",
    " 'CL': 1,\n",
    " 'D': 2,\n",
    " 1.0: 'one',\n",
    " 2.0:'two',\n",
    " 3.0:'three',\n",
    " 4.0:'four'\n",
    "}"
   ]
  },
  {
   "cell_type": "code",
   "execution_count": null,
   "metadata": {},
   "outputs": [],
   "source": [
    "train[TARGET] = train[TARGET].replace(names_map)\n",
    "train['Stage'] = train['Stage'].replace(names_map)\n",
    "test['Stage'] = test['Stage'].replace(names_map)"
   ]
  },
  {
   "cell_type": "code",
   "execution_count": null,
   "metadata": {},
   "outputs": [],
   "source": [
    "scaler = MinMaxScaler()\n",
    "\n",
    "train_ = train.drop(columns=[TARGET])\n",
    "\n",
    "numeric_cols = train_.select_dtypes(include=['int64', 'float64']).columns\n",
    "\n",
    "scaler.fit(train[numeric_cols])\n",
    "\n",
    "train[numeric_cols] = scaler.transform(train[numeric_cols])\n",
    "test[numeric_cols] = scaler.transform(test[numeric_cols])\n",
    "\n",
    "del(train_)"
   ]
  },
  {
   "cell_type": "code",
   "execution_count": null,
   "metadata": {},
   "outputs": [],
   "source": [
    "Status = train[TARGET]\n",
    "\n",
    "train = pd.get_dummies(train.drop(columns='Status'), drop_first=True)\n",
    "train[TARGET] = Status\n",
    "\n",
    "test = pd.get_dummies(test, drop_first=True)"
   ]
  },
  {
   "cell_type": "code",
   "execution_count": null,
   "metadata": {},
   "outputs": [],
   "source": [
    "train"
   ]
  },
  {
   "cell_type": "code",
   "execution_count": null,
   "metadata": {},
   "outputs": [],
   "source": [
    "y = train[TARGET]\n",
    "X = train.drop(columns=[TARGET])"
   ]
  },
  {
   "cell_type": "code",
   "execution_count": null,
   "metadata": {},
   "outputs": [],
   "source": [
    "X_train, X_test, y_train, y_test = train_test_split(X, y, stratify=y, test_size=0.1, random_state=42)"
   ]
  },
  {
   "cell_type": "code",
   "execution_count": null,
   "metadata": {},
   "outputs": [],
   "source": [
    "encoder = OneHotEncoder(sparse=False, categories='auto')\n",
    "y_encoded = encoder.fit_transform(y.values.reshape(-1, 1))\n",
    "y_train_encoded = encoder.transform(y_train.values.reshape(-1, 1))\n",
    "y_test_encoded = encoder.transform(y_test.values.reshape(-1, 1))"
   ]
  },
  {
   "cell_type": "code",
   "execution_count": null,
   "metadata": {},
   "outputs": [],
   "source": [
    "callbacks_list = [\n",
    "    tf.keras.callbacks.EarlyStopping(monitor='val_loss', patience=30, verbose=2, mode='min',restore_best_weights=True),\n",
    "    tf.keras.callbacks.ReduceLROnPlateau(monitor='val_loss', factor=0.8, patience=3, min_lr=0.00001),\n",
    "    tf.keras.callbacks.TerminateOnNaN()\n",
    "]"
   ]
  },
  {
   "cell_type": "code",
   "execution_count": null,
   "metadata": {},
   "outputs": [],
   "source": [
    "def create_model():\n",
    "    def build_model(hp):\n",
    "\n",
    "        model = tf.keras.models.Sequential()\n",
    "\n",
    "        for i in range(hp.Int('num_layers', 2, 20)):\n",
    "            model.add(tf.keras.layers.Dense(units=hp.Int('units_' + str(i), min_value=8, max_value=128, step=8), \n",
    "                            activation=hp.Choice('activation_' + str(i), values=['relu', 'tanh', 'sigmoid', 'softmax'])))\n",
    "            model.add(tf.keras.layers.BatchNormalization())\n",
    "            model.add(tf.keras.layers.Dropout(rate=hp.Float('dropout_' + str(i), min_value=0.0, max_value=0.5, step=0.05)))\n",
    "\n",
    "        model.add(tf.keras.layers.Dense(3, activation='softmax'))\n",
    "\n",
    "        optimizer = tf.keras.optimizers.Adam(\n",
    "            learning_rate=hp.Float('learning_rate', min_value=0.00001, max_value=0.1, sampling='log')\n",
    "            )\n",
    "\n",
    "        model.compile(loss='categorical_crossentropy', optimizer=optimizer, metrics=['accuracy'])\n",
    "\n",
    "        return model\n",
    "\n",
    "    tuner = RandomSearch(\n",
    "        build_model,\n",
    "        objective='val_loss',\n",
    "        seed=42,\n",
    "        max_trials=10,\n",
    "        directory='tuner_dir',\n",
    "        project_name='my_tuner')\n",
    "    \n",
    "    tuner.search(X_train.astype('float32'), y_train_encoded.astype('float32'), \n",
    "                validation_data=(X_test.astype('float32'), y_test_encoded.astype('float32')), \n",
    "                epochs=100, batch_size=128, callbacks=callbacks_list, validation_split=0.1)\n",
    "\n",
    "    best_hps = tuner.get_best_hyperparameters(num_trials=1)[0]\n",
    "    model = tuner.hypermodel.build(best_hps)\n",
    "\n",
    "    return model"
   ]
  },
  {
   "cell_type": "code",
   "execution_count": null,
   "metadata": {},
   "outputs": [],
   "source": [
    "nn_model = create_model()\n",
    "\n",
    "history = nn_model.fit(X_train.astype('float32'), y_train_encoded.astype('float32'),\n",
    "            epochs=100,\n",
    "            callbacks=callbacks_list,\n",
    "            validation_split=0.1)"
   ]
  },
  {
   "cell_type": "code",
   "execution_count": null,
   "metadata": {},
   "outputs": [],
   "source": [
    "y_pred = nn_model.predict(X_test.astype('float32'))"
   ]
  },
  {
   "cell_type": "code",
   "execution_count": null,
   "metadata": {},
   "outputs": [],
   "source": [
    "log_loss(y_test_encoded, y_pred)"
   ]
  },
  {
   "cell_type": "code",
   "execution_count": null,
   "metadata": {},
   "outputs": [],
   "source": [
    "submission = pd.read_csv('sample_submission.csv')\n",
    "\n",
    "submission[submission.columns[0]] = test_id\n",
    "\n",
    "submission[submission.columns[1:]] = nn_model.predict(test.astype('float32'))"
   ]
  },
  {
   "cell_type": "code",
   "execution_count": null,
   "metadata": {},
   "outputs": [],
   "source": [
    "submission.to_csv('submission.csv', index = False)"
   ]
  }
 ],
 "metadata": {
  "kernelspec": {
   "display_name": "base",
   "language": "python",
   "name": "python3"
  },
  "language_info": {
   "codemirror_mode": {
    "name": "ipython",
    "version": 3
   },
   "file_extension": ".py",
   "mimetype": "text/x-python",
   "name": "python",
   "nbconvert_exporter": "python",
   "pygments_lexer": "ipython3",
   "version": "3.11.5"
  }
 },
 "nbformat": 4,
 "nbformat_minor": 2
}
